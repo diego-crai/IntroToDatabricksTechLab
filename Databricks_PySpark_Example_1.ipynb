{
  "nbformat": 4,
  "nbformat_minor": 0,
  "metadata": {
    "colab": {
      "provenance": [],
      "authorship_tag": "ABX9TyPpQ4L0Wc9g1C7jX1qqZx5+",
      "include_colab_link": true
    },
    "kernelspec": {
      "name": "python3",
      "display_name": "Python 3"
    },
    "language_info": {
      "name": "python"
    }
  },
  "cells": [
    {
      "cell_type": "markdown",
      "metadata": {
        "id": "view-in-github",
        "colab_type": "text"
      },
      "source": [
        "<a href=\"https://colab.research.google.com/github/diego-crai/IntroToDatabricksTechLab/blob/main/Databricks_PySpark_Example_1.ipynb\" target=\"_parent\"><img src=\"https://colab.research.google.com/assets/colab-badge.svg\" alt=\"Open In Colab\"/></a>"
      ]
    },
    {
      "cell_type": "code",
      "source": [
        "#!pip install pyspark"
      ],
      "metadata": {
        "id": "NFadbPAPUxZk"
      },
      "execution_count": null,
      "outputs": []
    },
    {
      "cell_type": "markdown",
      "source": [
        "Hands-On Tutorial: PySpark DataFrame and Basic EDA\n",
        "1. Setting up the PySpark Environment\n",
        "\n",
        "First, ensure that PySpark is installed and configured in your environment. In Databricks, the environment is pre-configured."
      ],
      "metadata": {
        "id": "TnntDYlNWkWI"
      }
    },
    {
      "cell_type": "code",
      "execution_count": null,
      "metadata": {
        "id": "4_B--LXmUsRb"
      },
      "outputs": [],
      "source": [
        "from pyspark.sql import SparkSession\n",
        "# Create a SparkSession\n",
        "spark = SparkSession.builder \\\n",
        "    .appName(\"PySpark DataFrame and EDA Tutorial\") \\\n",
        "    .getOrCreate()\n"
      ]
    },
    {
      "cell_type": "markdown",
      "source": [
        "2. Creating a DataFrame with Random Data\n",
        "\n",
        "We'll create a DataFrame with random data. For simplicity, let's create a DataFrame with two columns: 'id' and 'value', where 'id' is a unique identifier and 'value' is a random number."
      ],
      "metadata": {
        "id": "wfscZEclWmnf"
      }
    },
    {
      "cell_type": "code",
      "source": [
        "from pyspark.sql.functions import rand\n",
        "import pyspark.sql.functions as F\n",
        "\n",
        "# Number of rows in the DataFrame\n",
        "num_rows = 10000\n",
        "\n",
        "# Create a DataFrame with random data\n",
        "df = spark.range(0, num_rows).withColumn('value', rand(seed=10) * 10000)\n",
        "df.show(5)\n"
      ],
      "metadata": {
        "colab": {
          "base_uri": "https://localhost:8080/"
        },
        "id": "YtdW69d6UuKK",
        "outputId": "feae8a81-3975-4bc5-c00b-cb434e113a4a"
      },
      "execution_count": null,
      "outputs": [
        {
          "output_type": "stream",
          "name": "stdout",
          "text": [
            "+---+-----------------+\n",
            "| id|            value|\n",
            "+---+-----------------+\n",
            "|  0|1709.497137955568|\n",
            "|  1|8051.143958005459|\n",
            "|  2|5775.925576589018|\n",
            "|  3|9476.047869880924|\n",
            "|  4|   2093.704977577|\n",
            "+---+-----------------+\n",
            "only showing top 5 rows\n",
            "\n"
          ]
        }
      ]
    },
    {
      "cell_type": "markdown",
      "source": [
        "3. Basic Exploratory Data Analysis (EDA)\n",
        "\n",
        "Now, let's perform some basic EDA on the DataFrame.\n",
        "\n",
        "3.1. Basic Descriptive Statistics\n",
        "\n",
        "Get summary statistics for the 'value' column."
      ],
      "metadata": {
        "id": "3eTefUTUXMJ7"
      }
    },
    {
      "cell_type": "code",
      "source": [
        "df.describe('value').show()"
      ],
      "metadata": {
        "colab": {
          "base_uri": "https://localhost:8080/"
        },
        "id": "wqi83jd3WulX",
        "outputId": "e81862d1-cb8a-4d75-8d65-5d47fb4dbc32"
      },
      "execution_count": null,
      "outputs": [
        {
          "output_type": "stream",
          "name": "stdout",
          "text": [
            "+-------+------------------+\n",
            "|summary|             value|\n",
            "+-------+------------------+\n",
            "|  count|             10000|\n",
            "|   mean| 4996.345729236676|\n",
            "| stddev|2876.5823304479145|\n",
            "|    min|0.6312299744748451|\n",
            "|    max| 9997.842389944872|\n",
            "+-------+------------------+\n",
            "\n"
          ]
        }
      ]
    },
    {
      "cell_type": "markdown",
      "source": [
        "3.2. Count and Distinct Count\n",
        "\n",
        "Count the total number of rows and distinct 'id' values."
      ],
      "metadata": {
        "id": "Z58d3Z5FYZ9w"
      }
    },
    {
      "cell_type": "code",
      "source": [
        "total_rows = df.count()\n",
        "distinct_ids = df.select('id').distinct().count()\n",
        "\n",
        "print(f\"Total Rows: {total_rows}, Distinct IDs: {distinct_ids}\")"
      ],
      "metadata": {
        "colab": {
          "base_uri": "https://localhost:8080/"
        },
        "id": "zO0kFrqKYbJr",
        "outputId": "da02f3c3-3cdd-4dc2-b099-d36668ebd199"
      },
      "execution_count": null,
      "outputs": [
        {
          "output_type": "stream",
          "name": "stdout",
          "text": [
            "Total Rows: 10000, Distinct IDs: 10000\n"
          ]
        }
      ]
    },
    {
      "cell_type": "markdown",
      "source": [
        "3.3. Minimum, Maximum, and Average\n",
        "\n",
        "Calculate the minimum, maximum, and average of the 'value' column."
      ],
      "metadata": {
        "id": "ghmfHQd7Yh4I"
      }
    },
    {
      "cell_type": "code",
      "source": [
        "df.agg(F.min('value'), F.max('value'), F.avg('value')).show()\n"
      ],
      "metadata": {
        "colab": {
          "base_uri": "https://localhost:8080/"
        },
        "id": "QBwQP1ZqYdDg",
        "outputId": "b06c415d-7d80-45f9-8b63-80ebb3a24aa3"
      },
      "execution_count": null,
      "outputs": [
        {
          "output_type": "stream",
          "name": "stdout",
          "text": [
            "+------------------+-----------------+-----------------+\n",
            "|        min(value)|       max(value)|       avg(value)|\n",
            "+------------------+-----------------+-----------------+\n",
            "|0.6312299744748451|9997.842389944872|4996.345729236676|\n",
            "+------------------+-----------------+-----------------+\n",
            "\n"
          ]
        }
      ]
    },
    {
      "cell_type": "markdown",
      "source": [
        "3.4. Simple Data Visualization (Optional)\n",
        "\n",
        "If you're using Databricks or an environment that supports visualization, plot a histogram or a bar chart of the 'value' column."
      ],
      "metadata": {
        "id": "D0VPMu36ZxW4"
      }
    },
    {
      "cell_type": "code",
      "source": [
        "display(df.select('value'))\n"
      ],
      "metadata": {
        "colab": {
          "base_uri": "https://localhost:8080/",
          "height": 34
        },
        "id": "y_j3aGshZSA4",
        "outputId": "4a460c4a-82a2-4d42-92eb-0f9a7af40601"
      },
      "execution_count": null,
      "outputs": [
        {
          "output_type": "display_data",
          "data": {
            "text/plain": [
              "DataFrame[value: double]"
            ]
          },
          "metadata": {}
        }
      ]
    },
    {
      "cell_type": "markdown",
      "source": [
        "4. Closing the Spark Session\n",
        "\n",
        "Finally, close the Spark session when you're done."
      ],
      "metadata": {
        "id": "jtDjLfSVaNLo"
      }
    },
    {
      "cell_type": "code",
      "source": [
        "spark.stop()"
      ],
      "metadata": {
        "id": "o7LKglDfaMUA"
      },
      "execution_count": null,
      "outputs": []
    }
  ]
}